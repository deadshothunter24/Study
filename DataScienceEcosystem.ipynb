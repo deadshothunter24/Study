{
 "cells": [
  {
   "cell_type": "markdown",
   "id": "7a1e7516-ee04-4b76-b4fc-12249f317db0",
   "metadata": {},
   "source": [
    "# Data Science Tools and Ecosystem"
   ]
  },
  {
   "cell_type": "markdown",
   "id": "ca95c502-f94d-422a-a13a-0ab8c93625e6",
   "metadata": {},
   "source": [
    "In this notebook, Data Science Tools and Ecosystem are summarized."
   ]
  },
  {
   "cell_type": "markdown",
   "id": "7a415eb9-8b00-4adc-b873-fe511157fba7",
   "metadata": {},
   "source": [
    "Objectives:\n",
    "- Some of the popular languages that Data Scientists use are:\n",
    "- Some of the commonly used libraries used by Data Scientists include:\n",
    "- Few examples of evaluating arithmetic expressions in Python"
   ]
  },
  {
   "cell_type": "markdown",
   "id": "d1637240-c7f5-4d1a-b150-1259f0fd5768",
   "metadata": {},
   "source": [
    "Some of the popular languages that Data Scientists use are:\n",
    "1. Python\n",
    "2. SQL\n",
    "3. R\n",
    "4. Julia"
   ]
  },
  {
   "cell_type": "markdown",
   "id": "d819f3f9-fe2e-4459-a452-b04402b29b85",
   "metadata": {},
   "source": [
    "Some of the commonly used libraries used by Data Scientists include:\n",
    "1. Jupyter Notebook\n",
    "2. Pandas\n",
    "3. TensorFlow\n",
    "4. Apache Hadoop\n"
   ]
  },
  {
   "cell_type": "markdown",
   "id": "15a3c099-f464-43f8-9240-cb82ad9098c8",
   "metadata": {},
   "source": [
    "| Data Science Tools |\n",
    "| ------------------ |\n",
    "| Jupyter Notebook/Lab |\n",
    "| RStudio |\n",
    "| Spyder |"
   ]
  },
  {
   "cell_type": "markdown",
   "id": "4ad1ac9a-13a7-4efe-afe3-37e4a5ae57bb",
   "metadata": {},
   "source": [
    "### Below are a few examples of evaluating arithmetic expressions in Python"
   ]
  },
  {
   "cell_type": "code",
   "execution_count": 12,
   "id": "db0eca56-b29e-4336-9787-d0115d142fe4",
   "metadata": {},
   "outputs": [
    {
     "data": {
      "text/plain": [
       "17"
      ]
     },
     "execution_count": 12,
     "metadata": {},
     "output_type": "execute_result"
    }
   ],
   "source": [
    "#This a simple arithmetic expression to mutiply then add integers\n",
    "(3*4)+5"
   ]
  },
  {
   "cell_type": "code",
   "execution_count": 11,
   "id": "afde9bb9-1d28-4d74-8dad-db9174e6d8b3",
   "metadata": {},
   "outputs": [
    {
     "data": {
      "text/plain": [
       "3.3333333333333335"
      ]
     },
     "execution_count": 11,
     "metadata": {},
     "output_type": "execute_result"
    }
   ],
   "source": [
    "#This will convert 200 minutes to hours by diving by 60\n",
    "200/60"
   ]
  },
  {
   "cell_type": "markdown",
   "id": "15d7e242-af6b-4f83-a2c2-40bb0bc93f6c",
   "metadata": {},
   "source": [
    "## Author\n",
    "Rohan"
   ]
  }
 ],
 "metadata": {
  "kernelspec": {
   "display_name": "Python 3 (ipykernel)",
   "language": "python",
   "name": "python3"
  },
  "language_info": {
   "codemirror_mode": {
    "name": "ipython",
    "version": 3
   },
   "file_extension": ".py",
   "mimetype": "text/x-python",
   "name": "python",
   "nbconvert_exporter": "python",
   "pygments_lexer": "ipython3",
   "version": "3.12.8"
  }
 },
 "nbformat": 4,
 "nbformat_minor": 5
}
